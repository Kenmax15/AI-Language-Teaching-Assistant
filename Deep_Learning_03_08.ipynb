{
  "nbformat": 4,
  "nbformat_minor": 0,
  "metadata": {
    "colab": {
      "provenance": [],
      "gpuType": "T4",
      "authorship_tag": "ABX9TyPZZ2MG9QYmDWiAATmC2HUv",
      "include_colab_link": true
    },
    "kernelspec": {
      "name": "python3",
      "display_name": "Python 3"
    },
    "language_info": {
      "name": "python"
    },
    "accelerator": "GPU"
  },
  "cells": [
    {
      "cell_type": "markdown",
      "metadata": {
        "id": "view-in-github",
        "colab_type": "text"
      },
      "source": [
        "<a href=\"https://colab.research.google.com/github/Kenmax15/AI-Language-Teaching-Assistant/blob/main/Deep_Learning_03_08.ipynb\" target=\"_parent\"><img src=\"https://colab.research.google.com/assets/colab-badge.svg\" alt=\"Open In Colab\"/></a>"
      ]
    },
    {
      "cell_type": "code",
      "execution_count": 2,
      "metadata": {
        "colab": {
          "base_uri": "https://localhost:8080/"
        },
        "id": "Cj4KbYLLkUP6",
        "outputId": "15e07ebc-95a1-41eb-b247-e894b386ae05"
      },
      "outputs": [
        {
          "output_type": "stream",
          "name": "stdout",
          "text": [
            "2.3.1+cu121\n",
            "<function is_available at 0x7fd82015fd00>\n"
          ]
        }
      ],
      "source": [
        "import torch\n",
        "\n",
        "print(torch.__version__)\n",
        "print(torch.cuda.is_available)"
      ]
    },
    {
      "cell_type": "code",
      "source": [
        "first_tensor = torch.tensor([1,2,3,4,5,6], dtype=torch.int8)"
      ],
      "metadata": {
        "id": "w55VPR3ylASI"
      },
      "execution_count": 3,
      "outputs": []
    },
    {
      "cell_type": "code",
      "source": [
        "first_tensor.device"
      ],
      "metadata": {
        "colab": {
          "base_uri": "https://localhost:8080/"
        },
        "id": "GCuSdwL_3BPP",
        "outputId": "11fd28df-9cf1-4dca-fd49-b56f0f0a4b75"
      },
      "execution_count": 4,
      "outputs": [
        {
          "output_type": "execute_result",
          "data": {
            "text/plain": [
              "device(type='cpu')"
            ]
          },
          "metadata": {},
          "execution_count": 4
        }
      ]
    },
    {
      "cell_type": "code",
      "source": [
        "first_tensor.dtype"
      ],
      "metadata": {
        "colab": {
          "base_uri": "https://localhost:8080/"
        },
        "id": "L06YrYfZ3Ioe",
        "outputId": "f16e32ad-d8f9-4713-8b90-434c7efc2a46"
      },
      "execution_count": 5,
      "outputs": [
        {
          "output_type": "execute_result",
          "data": {
            "text/plain": [
              "torch.int64"
            ]
          },
          "metadata": {},
          "execution_count": 5
        }
      ]
    },
    {
      "cell_type": "code",
      "source": [
        "second_tensor = torch.tensor([[1,2,3],[4,5,6],[7,8,9]])\n",
        "print(second_tensor[2])\n",
        "print(second_tensor[2][1])\n",
        "print(second_tensor[2][1].item())"
      ],
      "metadata": {
        "colab": {
          "base_uri": "https://localhost:8080/"
        },
        "id": "Qzkqw7zM3Ni8",
        "outputId": "c34ad8db-bb7f-4862-fecf-ff33ab8e6a78"
      },
      "execution_count": 31,
      "outputs": [
        {
          "output_type": "stream",
          "name": "stdout",
          "text": [
            "tensor([7, 8, 9])\n",
            "tensor(8)\n",
            "8\n"
          ]
        }
      ]
    },
    {
      "cell_type": "code",
      "source": [
        "first_tensor.shape"
      ],
      "metadata": {
        "colab": {
          "base_uri": "https://localhost:8080/"
        },
        "id": "xxN95tM73dKT",
        "outputId": "73904381-cb23-40d1-dd56-c38c4121b113"
      },
      "execution_count": 7,
      "outputs": [
        {
          "output_type": "execute_result",
          "data": {
            "text/plain": [
              "torch.Size([6])"
            ]
          },
          "metadata": {},
          "execution_count": 7
        }
      ]
    },
    {
      "cell_type": "code",
      "source": [
        "second_tensor.shape"
      ],
      "metadata": {
        "colab": {
          "base_uri": "https://localhost:8080/"
        },
        "id": "0aTl2NDC3h0_",
        "outputId": "43f36697-54e5-4f99-9734-a01d2fef5a3f"
      },
      "execution_count": 8,
      "outputs": [
        {
          "output_type": "execute_result",
          "data": {
            "text/plain": [
              "torch.Size([3, 3])"
            ]
          },
          "metadata": {},
          "execution_count": 8
        }
      ]
    },
    {
      "cell_type": "code",
      "source": [
        "first_tensor.ndim"
      ],
      "metadata": {
        "colab": {
          "base_uri": "https://localhost:8080/"
        },
        "id": "Bxh5DEqv3m91",
        "outputId": "691ef86d-a723-45d4-a995-aa87a7fa00b9"
      },
      "execution_count": 9,
      "outputs": [
        {
          "output_type": "execute_result",
          "data": {
            "text/plain": [
              "1"
            ]
          },
          "metadata": {},
          "execution_count": 9
        }
      ]
    },
    {
      "cell_type": "code",
      "source": [
        "second_tensor.ndim"
      ],
      "metadata": {
        "colab": {
          "base_uri": "https://localhost:8080/"
        },
        "id": "OhjNVbzp3t0h",
        "outputId": "0778a334-7054-4bac-8b65-fee21c1e7ca7"
      },
      "execution_count": 10,
      "outputs": [
        {
          "output_type": "execute_result",
          "data": {
            "text/plain": [
              "2"
            ]
          },
          "metadata": {},
          "execution_count": 10
        }
      ]
    },
    {
      "cell_type": "code",
      "source": [
        "third_tensor = torch.tensor([1,2,3,4,5,6], dtype=torch.int8)"
      ],
      "metadata": {
        "id": "FvvI4ElS3vsn"
      },
      "execution_count": 11,
      "outputs": []
    },
    {
      "cell_type": "code",
      "source": [
        "third_tensor.dtype"
      ],
      "metadata": {
        "colab": {
          "base_uri": "https://localhost:8080/"
        },
        "id": "zu_tO_3c4UZz",
        "outputId": "5327f564-4384-4a64-9e92-784468f65634"
      },
      "execution_count": 12,
      "outputs": [
        {
          "output_type": "execute_result",
          "data": {
            "text/plain": [
              "torch.int8"
            ]
          },
          "metadata": {},
          "execution_count": 12
        }
      ]
    },
    {
      "cell_type": "code",
      "source": [
        "fifth_tensor = torch.tensor([[1,2,3],[4,5,6],[7,8,9]], dtype=torch.float32)\n",
        "fifth_tensor.dtype"
      ],
      "metadata": {
        "colab": {
          "base_uri": "https://localhost:8080/"
        },
        "id": "SvV8AbFf4YYV",
        "outputId": "0542decb-3a4b-4b7f-f42f-e96a60eabf36"
      },
      "execution_count": 14,
      "outputs": [
        {
          "output_type": "execute_result",
          "data": {
            "text/plain": [
              "torch.float32"
            ]
          },
          "metadata": {},
          "execution_count": 14
        }
      ]
    },
    {
      "cell_type": "code",
      "source": [
        "sixth_tensor = fifth_tensor.int()\n",
        "sixth_tensor.dtype"
      ],
      "metadata": {
        "colab": {
          "base_uri": "https://localhost:8080/"
        },
        "id": "yEORwjsd4pOM",
        "outputId": "fe6bb414-5f77-4734-aa97-f8d280341615"
      },
      "execution_count": 15,
      "outputs": [
        {
          "output_type": "execute_result",
          "data": {
            "text/plain": [
              "torch.int32"
            ]
          },
          "metadata": {},
          "execution_count": 15
        }
      ]
    },
    {
      "cell_type": "code",
      "source": [
        "last_tensor = sixth_tensor.to(dtype=torch.float32)\n",
        "last_tensor.dtype"
      ],
      "metadata": {
        "colab": {
          "base_uri": "https://localhost:8080/"
        },
        "id": "nLMQSf7D43ll",
        "outputId": "219ddbe1-33a1-43ee-eb94-e60972911fee"
      },
      "execution_count": 17,
      "outputs": [
        {
          "output_type": "execute_result",
          "data": {
            "text/plain": [
              "torch.float32"
            ]
          },
          "metadata": {},
          "execution_count": 17
        }
      ]
    },
    {
      "cell_type": "code",
      "source": [
        "#@title torch.rand() selects random values from a uniform distribution on the interval [0-1]\n",
        "torch.manual_seed(111)\n",
        "torch.rand(4,4)"
      ],
      "metadata": {
        "colab": {
          "base_uri": "https://localhost:8080/"
        },
        "id": "hWIKqUuU5zL-",
        "outputId": "0e08e558-0b55-4059-9289-d6fe28c0ecb1"
      },
      "execution_count": 19,
      "outputs": [
        {
          "output_type": "execute_result",
          "data": {
            "text/plain": [
              "tensor([[0.7156, 0.9140, 0.2819, 0.2581],\n",
              "        [0.6311, 0.6001, 0.9312, 0.2153],\n",
              "        [0.6033, 0.7328, 0.1857, 0.5101],\n",
              "        [0.7545, 0.2884, 0.5775, 0.0358]])"
            ]
          },
          "metadata": {},
          "execution_count": 19
        }
      ]
    },
    {
      "cell_type": "code",
      "source": [
        "#@title torch.randint() selects random integers generated uniformly between specified low and high values\n",
        "torch.randint(-1, 10, (4,4), dtype=torch.int8)"
      ],
      "metadata": {
        "colab": {
          "base_uri": "https://localhost:8080/"
        },
        "id": "RSwjJMXm57ym",
        "outputId": "8934e79b-5c07-42f1-990d-bce064b2901a"
      },
      "execution_count": 20,
      "outputs": [
        {
          "output_type": "execute_result",
          "data": {
            "text/plain": [
              "tensor([[3, 9, 5, 0],\n",
              "        [5, 2, 0, 9],\n",
              "        [4, 1, 0, 1],\n",
              "        [5, 3, 1, 6]], dtype=torch.int8)"
            ]
          },
          "metadata": {},
          "execution_count": 20
        }
      ]
    },
    {
      "cell_type": "code",
      "source": [
        "torch.full_like(second_tensor,8)"
      ],
      "metadata": {
        "colab": {
          "base_uri": "https://localhost:8080/"
        },
        "id": "irRYKXel7BbN",
        "outputId": "4efec348-3bd6-4d0c-f1bd-8fb86fcab666"
      },
      "execution_count": 21,
      "outputs": [
        {
          "output_type": "execute_result",
          "data": {
            "text/plain": [
              "tensor([[8, 8, 8],\n",
              "        [8, 8, 8],\n",
              "        [8, 8, 8]])"
            ]
          },
          "metadata": {},
          "execution_count": 21
        }
      ]
    },
    {
      "cell_type": "code",
      "source": [
        "start_tensor = torch.rand(4,4)"
      ],
      "metadata": {
        "id": "LrO-sNiY7rpy"
      },
      "execution_count": 25,
      "outputs": []
    },
    {
      "cell_type": "code",
      "source": [
        "torch.rand_like(start_tensor)"
      ],
      "metadata": {
        "colab": {
          "base_uri": "https://localhost:8080/"
        },
        "id": "Qs0bCtMP702i",
        "outputId": "455e548a-00f6-4eff-a037-be5184739c00"
      },
      "execution_count": 26,
      "outputs": [
        {
          "output_type": "execute_result",
          "data": {
            "text/plain": [
              "tensor([[0.7821, 0.0133, 0.3243, 0.9077],\n",
              "        [0.8574, 0.1983, 0.0267, 0.9153],\n",
              "        [0.2590, 0.2468, 0.9635, 0.7522],\n",
              "        [0.2083, 0.1104, 0.6183, 0.8033]])"
            ]
          },
          "metadata": {},
          "execution_count": 26
        }
      ]
    },
    {
      "cell_type": "code",
      "source": [
        "torch.manual_seed(111)\n",
        "my_tensor = torch.rand(4,5)\n",
        "print(my_tensor)"
      ],
      "metadata": {
        "colab": {
          "base_uri": "https://localhost:8080/"
        },
        "id": "CRWdYAdf8OG7",
        "outputId": "06f56c41-6f0d-408f-dfed-2d635cf79299"
      },
      "execution_count": 35,
      "outputs": [
        {
          "output_type": "stream",
          "name": "stdout",
          "text": [
            "tensor([[0.7156, 0.9140, 0.2819, 0.2581, 0.6311],\n",
            "        [0.6001, 0.9312, 0.2153, 0.6033, 0.7328],\n",
            "        [0.1857, 0.5101, 0.7545, 0.2884, 0.5775],\n",
            "        [0.0358, 0.1026, 0.3419, 0.4400, 0.6341]])\n"
          ]
        }
      ]
    },
    {
      "cell_type": "code",
      "source": [
        "my_tensor[0, 1:]"
      ],
      "metadata": {
        "colab": {
          "base_uri": "https://localhost:8080/"
        },
        "id": "vxqPRf_KDhXH",
        "outputId": "87ce02f6-e568-411c-fbcf-b812cb380ba5"
      },
      "execution_count": 36,
      "outputs": [
        {
          "output_type": "execute_result",
          "data": {
            "text/plain": [
              "tensor([0.9140, 0.2819, 0.2581, 0.6311])"
            ]
          },
          "metadata": {},
          "execution_count": 36
        }
      ]
    },
    {
      "cell_type": "code",
      "source": [
        "my_tensor[2, 1:3]"
      ],
      "metadata": {
        "colab": {
          "base_uri": "https://localhost:8080/"
        },
        "id": "-J5ZPBzRD2Vq",
        "outputId": "256ca935-7d36-4d7e-db46-df55408addf8"
      },
      "execution_count": 41,
      "outputs": [
        {
          "output_type": "execute_result",
          "data": {
            "text/plain": [
              "tensor([0.5101, 0.7545])"
            ]
          },
          "metadata": {},
          "execution_count": 41
        }
      ]
    },
    {
      "cell_type": "code",
      "source": [
        "my_tensor[2, :]"
      ],
      "metadata": {
        "colab": {
          "base_uri": "https://localhost:8080/"
        },
        "id": "DOwY94CKFF3I",
        "outputId": "f6b22972-bd93-494c-ceaf-6cc2ac238036"
      },
      "execution_count": 45,
      "outputs": [
        {
          "output_type": "execute_result",
          "data": {
            "text/plain": [
              "tensor([0.1857, 0.5101, 0.7545, 0.2884, 0.5775])"
            ]
          },
          "metadata": {},
          "execution_count": 45
        }
      ]
    },
    {
      "cell_type": "code",
      "source": [
        "my_tensor[2, :2]"
      ],
      "metadata": {
        "colab": {
          "base_uri": "https://localhost:8080/"
        },
        "id": "ZjwQUzvlFBnU",
        "outputId": "61f6d0e9-8f33-4ac0-9b84-a203ee4e1fd4"
      },
      "execution_count": 44,
      "outputs": [
        {
          "output_type": "execute_result",
          "data": {
            "text/plain": [
              "tensor([0.1857, 0.5101])"
            ]
          },
          "metadata": {},
          "execution_count": 44
        }
      ]
    },
    {
      "cell_type": "code",
      "source": [
        "my_tensor[2, ::2]"
      ],
      "metadata": {
        "colab": {
          "base_uri": "https://localhost:8080/"
        },
        "id": "xJVtBGFmEmSg",
        "outputId": "1d146d79-dc8d-4d38-f737-575979b9f770"
      },
      "execution_count": 43,
      "outputs": [
        {
          "output_type": "execute_result",
          "data": {
            "text/plain": [
              "tensor([0.1857, 0.7545, 0.5775])"
            ]
          },
          "metadata": {},
          "execution_count": 43
        }
      ]
    },
    {
      "cell_type": "code",
      "source": [
        "#@title Use indexing to extract data that meets some criteria\n",
        "my_tensor[my_tensor<0.5]"
      ],
      "metadata": {
        "colab": {
          "base_uri": "https://localhost:8080/"
        },
        "id": "e5GIGOEXD7E-",
        "outputId": "6c5a896c-fada-4a1a-900d-bd467de58b6b"
      },
      "execution_count": 39,
      "outputs": [
        {
          "output_type": "execute_result",
          "data": {
            "text/plain": [
              "tensor([0.2819, 0.2581, 0.2153, 0.1857, 0.2884, 0.0358, 0.1026, 0.3419, 0.4400])"
            ]
          },
          "metadata": {},
          "execution_count": 39
        }
      ]
    },
    {
      "cell_type": "code",
      "source": [
        "#@title Combining tensors\n",
        "torch.stack((my_tensor, my_tensor))"
      ],
      "metadata": {
        "colab": {
          "base_uri": "https://localhost:8080/"
        },
        "id": "O6FcBV6iEH43",
        "outputId": "4adc0723-c43d-4f47-d671-04cf7bc033bd"
      },
      "execution_count": 47,
      "outputs": [
        {
          "output_type": "execute_result",
          "data": {
            "text/plain": [
              "tensor([[[0.7156, 0.9140, 0.2819, 0.2581, 0.6311],\n",
              "         [0.6001, 0.9312, 0.2153, 0.6033, 0.7328],\n",
              "         [0.1857, 0.5101, 0.7545, 0.2884, 0.5775],\n",
              "         [0.0358, 0.1026, 0.3419, 0.4400, 0.6341]],\n",
              "\n",
              "        [[0.7156, 0.9140, 0.2819, 0.2581, 0.6311],\n",
              "         [0.6001, 0.9312, 0.2153, 0.6033, 0.7328],\n",
              "         [0.1857, 0.5101, 0.7545, 0.2884, 0.5775],\n",
              "         [0.0358, 0.1026, 0.3419, 0.4400, 0.6341]]])"
            ]
          },
          "metadata": {},
          "execution_count": 47
        }
      ]
    },
    {
      "cell_type": "code",
      "source": [
        "#@title Math functions\n",
        "a = torch.rand((4,4), dtype=torch.float32)\n",
        "b = torch.rand((4,4), dtype=torch.float32)\n",
        "\n",
        "# Addition\n",
        "print(a.add(b))\n",
        "\n",
        "# Substraction\n",
        "print(a.sub(b))\n",
        "\n",
        "#multiplication\n",
        "print(a.mul(b))\n",
        "\n",
        "# Division\n",
        "print(a.div(b))"
      ],
      "metadata": {
        "colab": {
          "base_uri": "https://localhost:8080/"
        },
        "id": "D9rMToXrFYTT",
        "outputId": "baea8f57-9a20-4ab7-f589-bf39968300a7"
      },
      "execution_count": 11,
      "outputs": [
        {
          "output_type": "stream",
          "name": "stdout",
          "text": [
            "tensor([[0.8011, 1.0141, 0.8624, 0.6769],\n",
            "        [0.7749, 1.2094, 1.0069, 1.0054],\n",
            "        [0.7862, 1.7927, 1.0773, 0.3044],\n",
            "        [0.1552, 0.6439, 1.4607, 1.3835]])\n",
            "tensor([[ 0.2785, -0.8882,  0.0130,  0.5404],\n",
            "        [ 0.2546,  0.7537,  0.4354,  0.9370],\n",
            "        [ 0.6598,  0.1521, -0.6438, -0.2462],\n",
            "        [ 0.1185,  0.0854, -0.0170,  0.0292]])\n",
            "tensor([[0.1411, 0.0599, 0.1859, 0.0415],\n",
            "        [0.1339, 0.2236, 0.2061, 0.0332],\n",
            "        [0.0457, 0.7977, 0.1865, 0.0080],\n",
            "        [0.0025, 0.1018, 0.5333, 0.4783]])\n",
            "tensor([[ 2.0659,  0.0662,  1.0306,  8.9182],\n",
            "        [ 1.9788,  4.3081,  2.5237, 28.4169],\n",
            "        [11.4430,  1.1854,  0.2519,  0.1058],\n",
            "        [ 7.4510,  1.3058,  0.9770,  1.0431]])\n"
          ]
        }
      ]
    },
    {
      "cell_type": "code",
      "source": [
        "#@title Reduction function\n",
        "# mean\n",
        "print(torch.mean(a).item())\n",
        "\n",
        "# median\n",
        "print(torch.median(a).item())\n",
        "\n",
        "# mode\n",
        "print(torch.mode(a))\n",
        "\n",
        "# standard deviatio\n",
        "print(torch.std(a).item())"
      ],
      "metadata": {
        "colab": {
          "base_uri": "https://localhost:8080/"
        },
        "id": "_9L1-L6QF4jJ",
        "outputId": "dbb79a4f-7d8e-40b9-f936-03d6298ed7b9"
      },
      "execution_count": 18,
      "outputs": [
        {
          "output_type": "stream",
          "name": "stdout",
          "text": [
            "0.5442968606948853\n",
            "0.5398398041725159\n",
            "torch.return_types.mode(\n",
            "values=tensor([0.0630, 0.5147, 0.0291, 0.1368]),\n",
            "indices=tensor([1, 0, 3, 0]))\n",
            "0.31588566303253174\n"
          ]
        }
      ]
    },
    {
      "cell_type": "code",
      "source": [
        "#@title Linear Algebra Operations\n",
        "\n",
        "# tensor multiplication\n",
        "torch.matmul(a,b)"
      ],
      "metadata": {
        "colab": {
          "base_uri": "https://localhost:8080/"
        },
        "id": "ompzErWDYCi7",
        "outputId": "34c0522d-2a9f-4562-bc4b-6f6998dedc13"
      },
      "execution_count": 19,
      "outputs": [
        {
          "output_type": "execute_result",
          "data": {
            "text/plain": [
              "tensor([[0.1963, 1.0568, 1.0736, 0.5716],\n",
              "        [0.4532, 1.5760, 1.8372, 0.9249],\n",
              "        [0.4561, 1.0952, 0.7930, 0.1620],\n",
              "        [0.1892, 1.0026, 1.3054, 0.6988]])"
            ]
          },
          "metadata": {},
          "execution_count": 19
        }
      ]
    },
    {
      "cell_type": "code",
      "source": [
        "a1 = torch.randn(2, 3)\n",
        "a2 = torch.randn(3, 4)\n",
        "a3 = torch.randn(4, 5)\n",
        "a4 = torch.randn(5, 6)\n",
        "a5 = torch.randn(6, 7)\n",
        "\n",
        "torch.linalg.multi_dot((a1, a2, a3, a4, a5))"
      ],
      "metadata": {
        "colab": {
          "base_uri": "https://localhost:8080/"
        },
        "id": "zDRW9yqyXfAI",
        "outputId": "ca703929-cc69-42c3-cf26-a96dfd14e868"
      },
      "execution_count": 21,
      "outputs": [
        {
          "output_type": "execute_result",
          "data": {
            "text/plain": [
              "tensor([[  5.4122,  -1.0021,  -2.0708,  -1.2507,   8.6064,   1.0929,  -2.6536],\n",
              "        [  6.9316,  -7.8718, -31.2475,  13.4878,   6.6283, -12.1659, -13.7253]])"
            ]
          },
          "metadata": {},
          "execution_count": 21
        }
      ]
    },
    {
      "cell_type": "code",
      "source": [
        "#@title Computing eigenspectrum\n",
        "\n",
        "A = torch.randn(16384, 16384)\n",
        "#print(\"Matrix\", A)\n",
        "\n",
        "eigenvalues = torch.linalg.eig(A)\n",
        "\n",
        "print(\"Eigen Values:\", eigenvalues)\n",
        "#print(\"Eigen Vectors:\", eigenvectors)"
      ],
      "metadata": {
        "colab": {
          "base_uri": "https://localhost:8080/"
        },
        "id": "Od0ElALSZkQA",
        "outputId": "573f1a7c-6a99-4275-ff65-ce0591d9d5b5"
      },
      "execution_count": 9,
      "outputs": [
        {
          "output_type": "stream",
          "name": "stdout",
          "text": [
            "Eigen Values: torch.return_types.linalg_eig(\n",
            "eigenvalues=tensor([-98.1215+83.1832j, -98.1215-83.1832j, -82.5499+98.7296j,\n",
            "         ...,   0.7386-0.5669j,   1.2054+0.0000j,\n",
            "         -2.1668+0.0000j]),\n",
            "eigenvectors=tensor([[ 0.0018+0.0064j,  0.0018-0.0064j,  0.0002+0.0038j,  ...,\n",
            "         -0.0036+0.0105j,  0.0127+0.0000j, -0.0064+0.0000j],\n",
            "        [-0.0123-0.0025j, -0.0123+0.0025j,  0.0040-0.0044j,  ...,\n",
            "         -0.0037+0.0032j,  0.0080+0.0000j, -0.0010+0.0000j],\n",
            "        [-0.0024+0.0047j, -0.0024-0.0047j,  0.0070+0.0015j,  ...,\n",
            "          0.0069-0.0024j, -0.0038+0.0000j, -0.0068+0.0000j],\n",
            "        ...,\n",
            "        [ 0.0083-0.0056j,  0.0083+0.0056j, -0.0017-0.0019j,  ...,\n",
            "         -0.0034+0.0014j, -0.0028+0.0000j,  0.0122+0.0000j],\n",
            "        [ 0.0009+0.0105j,  0.0009-0.0105j,  0.0019+0.0052j,  ...,\n",
            "          0.0029-0.0070j,  0.0036+0.0000j, -0.0057+0.0000j],\n",
            "        [-0.0092+0.0009j, -0.0092-0.0009j, -0.0030+0.0002j,  ...,\n",
            "          0.0046-0.0015j, -0.0059+0.0000j,  0.0014+0.0000j]]))\n"
          ]
        }
      ]
    },
    {
      "cell_type": "code",
      "source": [
        "#@title Automatic differentiation\n",
        "x = torch.autograd.Variable(torch.Tensor([2]), requires_grad=True)\n",
        "y = torch.autograd.Variable(torch.Tensor([1]), requires_grad=True)\n",
        "z = torch.autograd.Variable(torch.Tensor([5]), requires_grad=True)"
      ],
      "metadata": {
        "id": "5uPSTR5YapgA"
      },
      "execution_count": 11,
      "outputs": []
    },
    {
      "cell_type": "code",
      "source": [
        "a = x - y\n",
        "f = z * a\n",
        "\n",
        "print(\"Final value for function f = \", f)\n",
        "\n",
        "f.backward()\n",
        "\n",
        "print(\"Gradient Value for x:\", x.grad)\n",
        "print(\"Gradient Value for y:\", y.grad)\n",
        "print(\"Gradient Value for z:\", z.grad)"
      ],
      "metadata": {
        "colab": {
          "base_uri": "https://localhost:8080/"
        },
        "id": "iHuEZpI0mvN2",
        "outputId": "3facfa2e-039b-4c36-fa9c-b1d611229a2f"
      },
      "execution_count": 15,
      "outputs": [
        {
          "output_type": "stream",
          "name": "stdout",
          "text": [
            "Final value for function f =  tensor([5.], grad_fn=<MulBackward0>)\n",
            "Gradient Value for x: tensor([20.])\n",
            "Gradient Value for y: tensor([-20.])\n",
            "Gradient Value for z: tensor([4.])\n"
          ]
        }
      ]
    },
    {
      "cell_type": "code",
      "source": [
        "#@title Splitting tensors\n",
        "\n",
        "x = torch.randn(8, 5)\n",
        "y = torch.rand(1, 16)"
      ],
      "metadata": {
        "id": "k99z_zFwnd0e"
      },
      "execution_count": 19,
      "outputs": []
    },
    {
      "cell_type": "code",
      "source": [
        "x"
      ],
      "metadata": {
        "colab": {
          "base_uri": "https://localhost:8080/"
        },
        "id": "i0JLvFsRtPTC",
        "outputId": "4d908ef4-6b81-4b8b-d419-098a7d7ecc42"
      },
      "execution_count": 22,
      "outputs": [
        {
          "output_type": "execute_result",
          "data": {
            "text/plain": [
              "tensor([[-1.6380,  0.1258,  1.0994,  0.6038, -0.3840],\n",
              "        [ 0.3304,  0.9646,  1.6871,  1.5041,  1.2922],\n",
              "        [ 0.8475, -0.8630,  0.5309,  0.3987,  0.5416],\n",
              "        [-2.1047, -0.4401, -1.5042, -0.6420,  1.2588],\n",
              "        [-0.8649,  1.7420,  1.2662, -0.0789,  0.0984],\n",
              "        [-0.7474, -0.0160, -0.4318,  1.6326, -0.1828],\n",
              "        [ 0.6725,  0.7540,  0.6394,  0.0337, -0.7533],\n",
              "        [-2.5792,  0.6701,  0.2400, -1.3310,  0.4652]])"
            ]
          },
          "metadata": {},
          "execution_count": 22
        }
      ]
    },
    {
      "cell_type": "code",
      "source": [
        "y"
      ],
      "metadata": {
        "colab": {
          "base_uri": "https://localhost:8080/"
        },
        "id": "reUO9HKvshgz",
        "outputId": "9abd7d97-0122-47b8-bd8f-7dd3bcf3df7e"
      },
      "execution_count": 20,
      "outputs": [
        {
          "output_type": "execute_result",
          "data": {
            "text/plain": [
              "tensor([[0.9754, 0.9950, 0.6671, 0.5647, 0.8825, 0.2698, 0.3151, 0.9197, 0.4397,\n",
              "         0.6903, 0.6568, 0.9500, 0.7575, 0.2978, 0.3616, 0.5534]])"
            ]
          },
          "metadata": {},
          "execution_count": 20
        }
      ]
    },
    {
      "cell_type": "code",
      "source": [
        "x.size(0)"
      ],
      "metadata": {
        "colab": {
          "base_uri": "https://localhost:8080/"
        },
        "id": "hn7fD3XgtT2v",
        "outputId": "ceb196d3-1a25-46f8-d425-6fe7eb2f4ad5"
      },
      "execution_count": 23,
      "outputs": [
        {
          "output_type": "execute_result",
          "data": {
            "text/plain": [
              "8"
            ]
          },
          "metadata": {},
          "execution_count": 23
        }
      ]
    },
    {
      "cell_type": "code",
      "source": [
        "torch.split(x, 4, dim=0)"
      ],
      "metadata": {
        "colab": {
          "base_uri": "https://localhost:8080/"
        },
        "id": "_i7ucl1Cs9XK",
        "outputId": "45e98cfc-d5b3-46ff-b6bd-81690eac4abf"
      },
      "execution_count": 29,
      "outputs": [
        {
          "output_type": "execute_result",
          "data": {
            "text/plain": [
              "(tensor([[-1.6380,  0.1258,  1.0994,  0.6038, -0.3840],\n",
              "         [ 0.3304,  0.9646,  1.6871,  1.5041,  1.2922],\n",
              "         [ 0.8475, -0.8630,  0.5309,  0.3987,  0.5416],\n",
              "         [-2.1047, -0.4401, -1.5042, -0.6420,  1.2588]]),\n",
              " tensor([[-0.8649,  1.7420,  1.2662, -0.0789,  0.0984],\n",
              "         [-0.7474, -0.0160, -0.4318,  1.6326, -0.1828],\n",
              "         [ 0.6725,  0.7540,  0.6394,  0.0337, -0.7533],\n",
              "         [-2.5792,  0.6701,  0.2400, -1.3310,  0.4652]]))"
            ]
          },
          "metadata": {},
          "execution_count": 29
        }
      ]
    },
    {
      "cell_type": "code",
      "source": [
        "torch.chunk(x, 4, dim=0)"
      ],
      "metadata": {
        "colab": {
          "base_uri": "https://localhost:8080/"
        },
        "id": "S44QTrW3tL4z",
        "outputId": "93a2728c-0fa6-4357-9dcb-0635150ad8be"
      },
      "execution_count": 27,
      "outputs": [
        {
          "output_type": "execute_result",
          "data": {
            "text/plain": [
              "(tensor([[-1.6380,  0.1258,  1.0994,  0.6038, -0.3840],\n",
              "         [ 0.3304,  0.9646,  1.6871,  1.5041,  1.2922]]),\n",
              " tensor([[ 0.8475, -0.8630,  0.5309,  0.3987,  0.5416],\n",
              "         [-2.1047, -0.4401, -1.5042, -0.6420,  1.2588]]),\n",
              " tensor([[-0.8649,  1.7420,  1.2662, -0.0789,  0.0984],\n",
              "         [-0.7474, -0.0160, -0.4318,  1.6326, -0.1828]]),\n",
              " tensor([[ 0.6725,  0.7540,  0.6394,  0.0337, -0.7533],\n",
              "         [-2.5792,  0.6701,  0.2400, -1.3310,  0.4652]]))"
            ]
          },
          "metadata": {},
          "execution_count": 27
        }
      ]
    },
    {
      "cell_type": "code",
      "source": [
        "torch.split(x, [5,3], dim=0)"
      ],
      "metadata": {
        "colab": {
          "base_uri": "https://localhost:8080/"
        },
        "id": "_-sIj4fyusH3",
        "outputId": "896b57c6-1440-46ec-d095-fec3c66254dd"
      },
      "execution_count": 30,
      "outputs": [
        {
          "output_type": "execute_result",
          "data": {
            "text/plain": [
              "(tensor([[-1.6380,  0.1258,  1.0994,  0.6038, -0.3840],\n",
              "         [ 0.3304,  0.9646,  1.6871,  1.5041,  1.2922],\n",
              "         [ 0.8475, -0.8630,  0.5309,  0.3987,  0.5416],\n",
              "         [-2.1047, -0.4401, -1.5042, -0.6420,  1.2588],\n",
              "         [-0.8649,  1.7420,  1.2662, -0.0789,  0.0984]]),\n",
              " tensor([[-0.7474, -0.0160, -0.4318,  1.6326, -0.1828],\n",
              "         [ 0.6725,  0.7540,  0.6394,  0.0337, -0.7533],\n",
              "         [-2.5792,  0.6701,  0.2400, -1.3310,  0.4652]]))"
            ]
          },
          "metadata": {},
          "execution_count": 30
        }
      ]
    },
    {
      "cell_type": "code",
      "source": [
        "torch.split(y, [4,6,6], dim=1)"
      ],
      "metadata": {
        "colab": {
          "base_uri": "https://localhost:8080/"
        },
        "id": "wohRhIKPvZ1v",
        "outputId": "ea912015-dbee-4c1a-ea42-3a504f3cc2d4"
      },
      "execution_count": 32,
      "outputs": [
        {
          "output_type": "execute_result",
          "data": {
            "text/plain": [
              "(tensor([[0.9754, 0.9950, 0.6671, 0.5647]]),\n",
              " tensor([[0.8825, 0.2698, 0.3151, 0.9197, 0.4397, 0.6903]]),\n",
              " tensor([[0.6568, 0.9500, 0.7575, 0.2978, 0.3616, 0.5534]]))"
            ]
          },
          "metadata": {},
          "execution_count": 32
        }
      ]
    },
    {
      "cell_type": "code",
      "source": [],
      "metadata": {
        "id": "i_v_WPHKvqjg"
      },
      "execution_count": null,
      "outputs": []
    }
  ]
}